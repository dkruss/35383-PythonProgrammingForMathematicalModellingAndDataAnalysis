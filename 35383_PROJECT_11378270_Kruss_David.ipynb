{
 "metadata": {
  "name": "",
  "signature": "sha256:f1051a78d7de07c64cb3fea9309b92b3f918944894d4a036bd8e748af328f6a1"
 },
 "nbformat": 3,
 "nbformat_minor": 0,
 "worksheets": [
  {
   "cells": [
    {
     "cell_type": "markdown",
     "metadata": {},
     "source": [
      "<h1 style=\"font-family:Impact,Arial;font-size:50px;\">T\u00e4le \u00f8f the Taals<h1/>\n",
      "\n",
      "<h2 style=\"font-family:Arial;\">David Kr\u00fcss<h1/>\n",
      "<h2 style=\"font-family:Arial;\">11378270<h1/>\n",
      "\n",
      "#### 35383 Programming for Data Analysis\n",
      "#### Spring 2014\n",
      "\n",
      "<hr style=\"height:5px;border:none;color:#333;background-color:#333;\" />"
     ]
    },
    {
     "cell_type": "markdown",
     "metadata": {},
     "source": [
      "#Abstract\n",
      "\n",
      "Write a short (no more than 10 lines) summary of your project's topic and main goals."
     ]
    },
    {
     "cell_type": "markdown",
     "metadata": {},
     "source": [
      "This project seeks to look at the nature of languages and the changes that occur through time. In  <a href=\"http://youtu.be/a5mZ0R3h8m0\">this video</a>, Dr. John McWhorter discusses features of languages, and briefly mentions the divergence a language (such as Latin) undergoes in different areas over time. English, being a Germanic language, shares similarities with other Germanic languages such as German (Deutsch) and Dutch (Nederlands). Dutch is geographically situated between Germany and England, and as a result the language is in some sense halfway between the two. Other languages such as Afrikaans arose as a result of colonisation, and developed differently over time. \n",
      "\n",
      "Through the analysis of the letter frequency of different languages, this project aims to take a look at the similarities and differences between related languages, specifically looking at Germanic languages and subsets thereof. It will do so both graphically and numerically, and reasoning will be given to account for some of the differences present.\n",
      "\n",
      "**Warning:** after reading this project, you may experience a strong desire to do one or more of the following: <a href=\"http://www.duolingo.com\">learn another language</a>, <a href=\"http://www.tolkienbeowulf.com/\">read Beowulf</a>, listen to some <a href=\"http://youtu.be/VIqUuNiCG_s\">Icelandic</a> <a href=\"http://youtu.be/kzSJBhPFTcY\">music</a>, <a href=\"http://icelandaurora.com/tours/\">take a trip to Iceland</a>, <a href=\"http://stuffdutchpeoplelike.com/2012/08/15/no-1-bicycles-bikes/\">start riding a bike</a> or even <a href=\"http://en.wikipedia.org/wiki/List_of_countries_by_coffee_consumption_per_capita\">develop a crippling caffeine addiction</a>."
     ]
    },
    {
     "cell_type": "markdown",
     "metadata": {},
     "source": [
      "<hr style=\"height:5px;border:none;color:#333;background-color:#333;\" />\n",
      "# 1. Motivation\n",
      "\n",
      "Write a detailed description of the problem and the original goal(s) of the study. Explain why you were interested in this topic and the type of insight you were hoping to get from the data."
     ]
    },
    {
     "cell_type": "markdown",
     "metadata": {},
     "source": [
      "\n",
      "For a long time, I've been personally interested in languages - they allow us to communicate and interact with others. However, there obviously exist language barriers between different countries, which in part is what makes mathematics so interesting - it's one of the closest things we have to a universal language, and it has set 'syntax' and rules that must be followed. \n",
      "\n",
      "Coming from and knowing others who have a Dutch background, as well as having friends who are fluent in Afrikaans, it's often interesting to be able to understand bits and pieces of what some of those South African friends are saying, and yet still being able to see slight changes between the languages.\n",
      "\n",
      "From this data I hope to be able to see some noticeable similarities and differences between different subsets of these Germanic languages, and get a rough idea of the divergence that occured between them over time. If possible, I also want to see if I can account for some of these differences."
     ]
    },
    {
     "cell_type": "markdown",
     "metadata": {},
     "source": [
      "<hr style=\"height:5px;border:none;color:#333;background-color:#333;\" />\n",
      "# 2. The data\n",
      "A clear description of the dataset(s) origin and a discussion of why it was chosen, as well as any restriction regarding the use, dissemination or modification of the data.\n",
      "\n",
      "Note that wherever possible you should provide a link to the __unmodified, raw__ data set.\n"
     ]
    },
    {
     "cell_type": "markdown",
     "metadata": {},
     "source": [
      "\n",
      "To get a good idea of these different languages, I've chosen different texts from each, taken from <a href=\"http://www.gutenberg.org/\">Project Gutenberg</a>. An issue with trying to analyse a language from a text is trying to find texts which represent the language - if we used the novel <a href=\"http://en.wikipedia.org/wiki/Gadsby_(novel)\"><em>Gadsby</em></a>, for example, there would be a noticeable absence of the letter 'e'. However, with the chosen data, I'm making the assumption that different authors using the same language would 'converge' on certain frequencies for each letter (given a long enough text), and small differences would be insignificant, as I'm trying to get a rough idea of differences between languages.\n",
      "\n",
      "As the texts in a given language should (ideally) converge to certain letter frequencies, most of my choices are largely random; there's nothing in any of the following texts to suggest that it wouldn't be similar to a different text in the same language. However, for Modern English I've chosen 3 texts across different authors, locations and times to test this. Dickens' 'A Tale of Two Cities' has of course been included in this.\n",
      "For the North Germanic (Scandinavian) texts, there isn't a large amount of choice of texts from Project Gutenberg, so a couple of them are translations from English or another language.\n",
      "\n",
      "As saving these .txt files directly from Project Gutenberg have names such as 'pg32865.txt', I've renamed each of them in order to be able to reference them without wondering what number corresponds with which text; beyond that, there has been no alteration of the .txt files before being processed in this notebook.\n",
      "\n",
      "My texts are as follows:\n",
      "\n",
      "- West Germanic\n",
      "  - German: Franz Kafka - _Betrachtung_\n",
      "  - Dutch: Hildebrand - _Camera Obscura_\n",
      "    - Afrikaans: Celliers et al - _Digters uit Suid-Afrika_\n",
      "  - English\n",
      "    - Old: _Beowulf_\n",
      "    - Middle: Geoffrey Chaucer - _The Canterbury Tales_\n",
      "    - Modern:\n",
      "      - William Shakespeare - _Macbeth_\n",
      "      - A.B. \"Banjo\" Paterson - _The Man From Snowy River_\n",
      "      - Charles Dickens - _A Tale of Two Cities_\n",
      "\n",
      "- North Germanic\n",
      "  - Insular Scandinavian\n",
      "    - Icelandic: Jules Verne - _S\u00e6farinn_\n",
      "  - Continental Scandinavian\n",
      "    - Norwegian: Knut Hamsun - _Markens gr\u00f8de, F\u00f8rste del_\n",
      "    - Danish: Richard Marsh - _En adelig Opdager_\n",
      "    - Swedish: Johan Ludvig Runeberg - _Samlade arbeten I_"
     ]
    },
    {
     "cell_type": "markdown",
     "metadata": {},
     "source": [
      "<a href=\"http://www.gutenberg.org/ebooks/23532\">http://www.gutenberg.org/ebooks/23532</a> - Betrachtung\n",
      "\n",
      "<a href=\"http://www.gutenberg.org/ebooks/15975\">http://www.gutenberg.org/ebooks/15975</a> - Camera Obscura\n",
      "\n",
      "<a href=\"http://www.gutenberg.org/ebooks/42302\">http://www.gutenberg.org/ebooks/42302</a> - Digters uit Suid-Afrika\n",
      "\n",
      "<a href=\"http://www.gutenberg.org/ebooks/9701\">http://www.gutenberg.org/ebooks/9701</a>  - Beowulf\n",
      "\n",
      "<a href=\"http://www.gutenberg.org/ebooks/1129\">http://www.gutenberg.org/ebooks/1129</a>  - Macbeth\n",
      "\n",
      "<a href=\"http://www.gutenberg.org/ebooks/213\">http://www.gutenberg.org/ebooks/213</a>   - The Man From Snowy River\n",
      "\n",
      "<a href=\"http://www.gutenberg.org/ebooks/98\">http://www.gutenberg.org/ebooks/98</a>    - A Tale of Two Cities\n",
      "\n",
      "<a href=\"http://www.gutenberg.org/ebooks/17025\">http://www.gutenberg.org/ebooks/17025</a> - S\u00e6farinn\n",
      "\n",
      "<a href=\"http://www.gutenberg.org/ebooks/43724\">http://www.gutenberg.org/ebooks/43724</a> - Markens gr\u00f8de, F\u00f8rste del\n",
      "\n",
      "<a href=\"http://www.gutenberg.org/ebooks/32865\">http://www.gutenberg.org/ebooks/32865</a> - En adelig Opdager\n",
      "\n",
      "<a href=\"http://www.gutenberg.org/ebooks/13100\">http://www.gutenberg.org/ebooks/13100</a> - Samlade arbeten I"
     ]
    },
    {
     "cell_type": "markdown",
     "metadata": {},
     "source": [
      "The following is the information regarding the use of the above texts:\n",
      "\n",
      ">This eBook is for the use of anyone anywhere at no cost and with\n",
      ">almost no restrictions whatsoever.  You may copy it, give it away or\n",
      ">re-use it under the terms of the Project Gutenberg License included\n",
      ">with this eBook or online at www.gutenberg.org\n",
      "\n",
      "The full license can be found at [http://www.gutenberg.org/wiki/Gutenberg:The_Project_Gutenberg_License](http://www.gutenberg.org/wiki/Gutenberg:The_Project_Gutenberg_License)"
     ]
    },
    {
     "cell_type": "markdown",
     "metadata": {},
     "source": [
      "<hr style=\"height:5px;border:none;color:#333;background-color:#333;\" />\n",
      "# 3. Data preparation\n",
      "\n",
      "Code and comments on how the raw data is put in a usable form (i.e., how you go from the raw data set(s) to the dataframe you are using for the analysis).\n",
      "\n",
      "__Create as many code, markdown and raw cells as needed__"
     ]
    },
    {
     "cell_type": "markdown",
     "metadata": {},
     "source": [
      "From Project Gutenberg, I downloaded each text as a .txt file, encoded in UTF-8.\n",
      "The following code covers the python modules that need to be imported."
     ]
    },
    {
     "cell_type": "code",
     "collapsed": false,
     "input": [
      "%matplotlib inline \n",
      "import matplotlib.pyplot as plt\n",
      "import numpy as np\n",
      "import codecs\n",
      "import string"
     ],
     "language": "python",
     "metadata": {},
     "outputs": []
    },
    {
     "cell_type": "markdown",
     "metadata": {},
     "source": [
      "The following 'alphabets' cover the characters that I need within the text files."
     ]
    },
    {
     "cell_type": "code",
     "collapsed": false,
     "input": [
      "alphaEXTENDED =         u'a\u00e1\u00e4bcd\u00f0e\u00e9fghi\u00edjklmno\u00f3\u00f6pqrstu\u00fa\u00fcvwxy\u00fdz\u00fe\u00e6\u00f8\u00e5'\n",
      "alphaEXTENDED_upper =   u'A\u00c1\u00c4BCD\u00d0E\u00c9FGHI\u00cdJKLMNO\u00d3\u00d6PQRSTU\u00da\u00dcVWXY\u00ddZ\u00de\u00c6\u00d8\u00c5'\n",
      "alphaBEOWULF =          u'\u0101$$$$$$\u0113$$$$\u012b$$$$$$\u014d$$$$$$$\u016b$$$$$y\u0304$$$\u01e3$$'\n",
      "alphaBEOWULF_upper =    u'\u0100$$$$$$\u0112$$$$\u012a$$$$$$\u014c$$$$$$$\u016a$$$$$y\u0304$$$\u01e2$$'"
     ],
     "language": "python",
     "metadata": {},
     "outputs": []
    },
    {
     "cell_type": "markdown",
     "metadata": {},
     "source": [
      "The `letterProfile` function creates an empty list `letterFreq`, then cycles through the alphabets above, counting the occurence of each character and appending the sum to the `letterFreq` list."
     ]
    },
    {
     "cell_type": "code",
     "collapsed": false,
     "input": [
      "def letterProfile(f):\n",
      "    '''\n",
      "    Takes a file f and counts how many times each letter appears\n",
      "    '''\n",
      "    letterFreq = []\n",
      "    for i in range(0,len(alphaEXTENDED)):\n",
      "        letterFreq.append(f.count(alphaEXTENDED[i])+f.count(alphaEXTENDED_upper[i])+f.count(alphaBEOWULF[i])+f.count(alphaBEOWULF_upper[i]))\n",
      "    return letterFreq"
     ],
     "language": "python",
     "metadata": {},
     "outputs": []
    },
    {
     "cell_type": "markdown",
     "metadata": {},
     "source": [
      "The `percentified` function takes the `letterFreq` list from the `letterProfile` function, and outputs a list showing the frequency that each letter appears as a percentage of the total characters."
     ]
    },
    {
     "cell_type": "code",
     "collapsed": false,
     "input": [
      "def percentified(f):\n",
      "    '''\n",
      "    Takes a file f and calculates the letter frequency as a percent\n",
      "    '''\n",
      "    return [float(item)/sum(letterProfile(f)) for item in letterProfile(f)]"
     ],
     "language": "python",
     "metadata": {},
     "outputs": []
    },
    {
     "cell_type": "markdown",
     "metadata": {},
     "source": [
      "The following `textClean` function takes the raw text file, crops out the metadata from Project Gutenberg, decodes it, and outputs the 'percentified' text. a and b for each are determined manually, by opening the .txt files in an editor such as <a href=\"http://notepad-plus-plus.org/\">Notepad++</a> and finding the lines where the text starts and ends. "
     ]
    },
    {
     "cell_type": "code",
     "collapsed": false,
     "input": [
      "def textClean(f,a,b):\n",
      "    '''\n",
      "    Takes a string f as the title of a text file,\n",
      "    writes from lines a:b in an edited file,\n",
      "    decodes it as utf-8 and returns the percentified file.\n",
      "    '''\n",
      "    text = open('./texts/'+f+'.txt').readlines()\n",
      "    open('./texts/'+f+'Edit.txt','w').writelines(text[a:b])\n",
      "    edit = open('./texts/'+f+'Edit.txt').read()\n",
      "    decoded = codecs.open('./texts/'+f+'Edit.txt',encoding='utf-8')\n",
      "    cleaned = decoded.read()\n",
      "    return percentified(cleaned)"
     ],
     "language": "python",
     "metadata": {},
     "outputs": []
    },
    {
     "cell_type": "markdown",
     "metadata": {},
     "source": [
      "Finally, the cells below takes the text files and saves the percentified lists to some variables."
     ]
    },
    {
     "cell_type": "code",
     "collapsed": false,
     "input": [
      "#Old English: Beowulf\n",
      "beowulf_p = textClean('beowulf',443,3796)\n",
      "\n",
      "#Middle English: The Canterbury Tales - Geoffrey Chaucer\n",
      "canterbury_p = textClean('canterbury',1375,29557)\n",
      "\n",
      "#English: Macbeth - William Shakespeare\n",
      "macbeth_p = textClean('macbeth',220,3176)\n",
      "#English: A Tale of Two Cities - Charles Dickens\n",
      "taleOfTwo_p = textClean('taleOfTwo',104,15900)\n",
      "#English: The Man From Snowy River - A.B. \"Banjo\" Paterson\n",
      "snowy_p = textClean('snowy',109,3740)"
     ],
     "language": "python",
     "metadata": {},
     "outputs": []
    },
    {
     "cell_type": "code",
     "collapsed": false,
     "input": [
      "#Dutch: Camera Obscura - Nicolaas Beets (under the pseudonym Hildebrand)\n",
      "camera_p = textClean('camera',476,14240)\n",
      "#Afrikaans: Digters uit Suid-Afrika - Celliers, du Toit, Leipoldt, Malherbe\n",
      "digters_p = textClean('digters',348,4783)\n",
      "#German: Betrachtung - Franz Kafka\n",
      "betrachtung_p = textClean('betrachtung',65,917)"
     ],
     "language": "python",
     "metadata": {},
     "outputs": []
    },
    {
     "cell_type": "code",
     "collapsed": false,
     "input": [
      "#Icelandic: S\u00e6farinn (Icelandic translation of 20000 Leagues Under the Sea) - Jules Verne\n",
      "saefarinn_p = textClean('saefarinn',65,4579)\n",
      "#Swedish: Samlade arbeten I - Johan Ludvig Runeberg\n",
      "samlade_p = textClean('samlade',2730,25030)\n",
      "#Danish: En adelig Opdager - Richard Marsh; translated by Axel Thomsen\n",
      "opdager_p = textClean('opdager',149,3795)\n",
      "#Norwegian: Markens gr\u00f8de F\u00f8rste del - Knut Hamsun\n",
      "markens_p = textClean('markens',90,6392)"
     ],
     "language": "python",
     "metadata": {},
     "outputs": []
    },
    {
     "cell_type": "markdown",
     "metadata": {},
     "source": [
      "<hr style=\"height:5px;border:none;color:#333;background-color:#333;\" />\n",
      "# 4. Exploratory data analysis\n",
      "\n",
      "This is the main part of the project. Include code, plots, and detailed explanation of your analysis of the data. Be sure to include enough detail so that anyone can follow and understand what you are doing.\n",
      "\n",
      "__Create as many code, markdown and raw cells as needed__"
     ]
    },
    {
     "cell_type": "code",
     "collapsed": false,
     "input": [
      "from math import sqrt\n",
      "\n",
      "def distance(p1,p2):\n",
      "    '''\n",
      "    Takes 2 percentified letter profiles p1 & p2, \n",
      "    and finds the Euclidean distance between them\n",
      "    '''\n",
      "    vector = []\n",
      "    dist = 0\n",
      "    for i in range(0,len(p1)):\n",
      "        vector.append((p1[i] - p2[i])**2)\n",
      "    dist = sqrt(sum(float(i) for i in vector))\n",
      "    return dist"
     ],
     "language": "python",
     "metadata": {},
     "outputs": []
    },
    {
     "cell_type": "code",
     "collapsed": false,
     "input": [
      "def difference(p1,p2):\n",
      "    '''\n",
      "    Takes 2 percentified letter profiles p1 & p2, \n",
      "    and finds the difference between each letter\n",
      "    '''\n",
      "    diff = []\n",
      "    for i in range(0,len(p1)):\n",
      "        diff.append((p1[i] - p2[i]))\n",
      "    return diff"
     ],
     "language": "python",
     "metadata": {},
     "outputs": []
    },
    {
     "cell_type": "code",
     "collapsed": false,
     "input": [
      "def letterPlot(percents, colours, titles):\n",
      "    '''\n",
      "    Takes a list of percentified texts, \n",
      "    a corresponding list of colours,\n",
      "    and a matching list of titles.\n",
      "    '''\n",
      "    ind = np.arange(len(alphaEXTENDED))  # the x locations for the groups\n",
      "    width = 0.8       # the width of the bars\n",
      "\n",
      "    fig, ax = plt.subplots(figsize=(20,8))\n",
      "    plt.xlim(0,len(alphaEXTENDED)+1) #widens the plot to leave some space at the end for the character \u00e5\n",
      "\n",
      "    def autolabel(rects):\n",
      "        # attach some text labels\n",
      "        for rect in rects:\n",
      "            height = rect.get_height()\n",
      "            ax.text(rect.get_x()+rect.get_width()/2., 1.05*height, '%.2f'%float(height),\n",
      "                    ha='center', va='bottom')\n",
      "    \n",
      "    rects = [None]*len(percents) #Creates sets of rectangles - one set of rectangles per text\n",
      "    for i in range(0,len(percents)):\n",
      "        #The width of the bars is inversely proportional to the amount of texts being compared\n",
      "        rects[i] = ax.bar(width/2+ind+i*width/len(percents), percents[i],width/len(percents),color=colours[i],alpha=0.8)\n",
      "        autolabel(rects[i])\n",
      "\n",
      "    ax.set_xticks(ind+width)\n",
      "    ax.set_xticklabels(alphaEXTENDED)\n",
      "    ax.legend( (rects), (titles) )\n",
      "    \n",
      "    plt.show()"
     ],
     "language": "python",
     "metadata": {},
     "outputs": []
    },
    {
     "cell_type": "code",
     "collapsed": false,
     "input": [
      "def differencePlot(p1,p2,s1,s2):\n",
      "    '''\n",
      "    Graphs the difference in frequency for each letter between two texts.\n",
      "    A positive difference means a higher frequency of the letter in p1,\n",
      "    a negative difference means a higher frequency of the letter in p2.\n",
      "    s1 & s2 are strings, used for the title of the graph.\n",
      "    '''\n",
      "    colours = 'rrrbbbbrrbbbrrbbbbbrrrbbbbbrrrbbbrrbbrrr' #vowels and y highlighted in red\n",
      "    ind = np.arange(len(alphaEXTENDED))  # the x locations for the groups\n",
      "    width = 0.35\n",
      "    fig, ax = plt.subplots(figsize=(20,8))\n",
      "    plt.title(s1 + ' - ' + s2)\n",
      "    ax.set_xticks(ind+width)\n",
      "    ax.set_ylim([-0.15,0.15])\n",
      "    ax.set_xticklabels(alphaEXTENDED)\n",
      "    ax.bar(left=np.arange(len(alphaEXTENDED)),height=difference(p1,p2),color=colours,alpha=0.8)\n",
      "    ax.xaxis.grid()\n",
      "    plt.show()"
     ],
     "language": "python",
     "metadata": {},
     "outputs": []
    },
    {
     "cell_type": "code",
     "collapsed": false,
     "input": [
      "def sortedFrequency(p,s):\n",
      "    '''\n",
      "    Takes a percentified letter profile p, \n",
      "    sorts it by most frequent to least,\n",
      "    then graphs the result.\n",
      "    '''\n",
      "    colours = 'rrrbbbbrrbbbrrbbbbbrrrbbbbbrrrbbbrrbbrrr' #vowels and y highlighted in red\n",
      "    sortedP = sorted(zip(p, alphaEXTENDED,colours), reverse=True, key=lambda tup: tup[0])\n",
      "    fig, ax = plt.subplots(figsize=(8,4))\n",
      "    ind = np.arange(len(alphaEXTENDED))  # the x locations for the groups\n",
      "    width = 0.35       # the width of the bars\n",
      "\n",
      "    plt.title(s + '')\n",
      "    ax.set_xticks(ind+width)\n",
      "    ax.set_ylim([0,0.2])\n",
      "    ax.set_xticklabels(zip(*sortedP)[1])\n",
      "    plt.bar(height=list(zip(*sortedP)[0]),left=np.arange(40),color=zip(*sortedP)[2],alpha=0.8)"
     ],
     "language": "python",
     "metadata": {},
     "outputs": []
    },
    {
     "cell_type": "markdown",
     "metadata": {},
     "source": [
      "First up, let's see how English has changed over the years. The following texts are Beowulf (Old English), The Canterbury Tales (Middle English), and Macbeth (Modern English):"
     ]
    },
    {
     "cell_type": "code",
     "collapsed": false,
     "input": [
      "letterPlot([beowulf_p,canterbury_p,macbeth_p],['r','#FF6600','y'],['Beowulf','Canterbury Tales', 'Macbeth'])\n",
      "print \"Distance between Beowulf and Canterbury Tales: \" + str(distance(beowulf_p,canterbury_p))\n",
      "print \"Distance between Canterbury Tales and Macbeth: \" + str(distance(canterbury_p,macbeth_p))\n",
      "print \"Distance between Beowulf and Macbeth: \" + str(distance(beowulf_p,macbeth_p))"
     ],
     "language": "python",
     "metadata": {},
     "outputs": []
    },
    {
     "cell_type": "code",
     "collapsed": false,
     "input": [
      "differencePlot(beowulf_p,canterbury_p,'Old English','Middle English')\n",
      "differencePlot(beowulf_p,macbeth_p,'Old English','Modern English')\n",
      "differencePlot(canterbury_p,macbeth_p,'Middle English','Modern English')"
     ],
     "language": "python",
     "metadata": {},
     "outputs": []
    },
    {
     "cell_type": "markdown",
     "metadata": {},
     "source": [
      "Surprisingly, Beowulf is slightly closer to Macbeth than it is to Canterbury Tales, and Canterbury Tales is certainly much closer to Macbeth than Beowulf is to either. Part of this can be accounted for by the decline in characters such as \u00f0, \u00fe, \u00e6, and \u00f8 in English. Some quick research indicates that this is also partly due to the <a href=\"http://en.wikipedia.org/wiki/Norman_conquest_of_England\">Norman Conquest of England</a>, in which the Norman language (related to French) influenced Middle English.\n",
      "\n",
      "There's also a significantly higher frequency of the letters H and T in Middle and Modern English than in Old English - this could be due to the digraph 'TH' (as in _THeta_) being represented by the letter thorn (\u00fe), and its 'softer' equivalent, eth (\u00f0).\n",
      "\n",
      "Let's look at something slightly more recent:"
     ]
    },
    {
     "cell_type": "code",
     "collapsed": false,
     "input": [
      "letterPlot([macbeth_p,taleOfTwo_p,snowy_p],['#00FFFF','b','g'],['Macbeth','A Tale of Two Cities','The Man from Snowy River'])\n",
      "print \"Distance between Macbeth and A Tale of Two Cities: \" + str(distance(taleOfTwo_p,macbeth_p))\n",
      "print \"Distance between Macbeth and The Man from Snowy River: \" + str(distance(macbeth_p,snowy_p))\n",
      "print \"Distance between A Tale of Two Cities and The Man from Snowy River: \" + str(distance(taleOfTwo_p,snowy_p))"
     ],
     "language": "python",
     "metadata": {},
     "outputs": []
    },
    {
     "cell_type": "code",
     "collapsed": false,
     "input": [
      "differencePlot(taleOfTwo_p,snowy_p,'A Tale of Two Cities','The Man From Snowy River')"
     ],
     "language": "python",
     "metadata": {},
     "outputs": []
    },
    {
     "cell_type": "markdown",
     "metadata": {},
     "source": [
      "Interesting. It seems that Modern English seems to have converged on these rough values in the last few hundred years, with Macbeth being written sometime around early 17th Century, and Tale of Two Cities & Man from Snowy River both being written in the late 19th Century - one by an Englishman and the other by an Australian. In spite of this, they're all quite close, and no letter seems to stick out significantly on the graph.\n",
      "\n",
      "Now that we've had a look at English, let's move up a level and compare some of the West Germanic languages."
     ]
    },
    {
     "cell_type": "code",
     "collapsed": false,
     "input": [
      "letterPlot([betrachtung_p,camera_p,taleOfTwo_p],['r','#FF6600','b'],['German','Dutch','English'])\n",
      "print \"Distance between German and Dutch: \" + str(distance(betrachtung_p,camera_p))\n",
      "print \"Distance between German and English: \" + str(distance(betrachtung_p,taleOfTwo_p))\n",
      "print \"Distance between Dutch and English: \" + str(distance(camera_p,taleOfTwo_p))\n",
      "print \"\\n\"\n",
      "print \"Distance between German and Old English: \" + str(distance(betrachtung_p,beowulf_p))\n",
      "print \"Distance between Dutch and Old English: \" + str(distance(camera_p,beowulf_p))\n",
      "print \"Distance between German and Middle English: \" + str(distance(betrachtung_p,canterbury_p))\n",
      "print \"Distance between Dutch and Middle English: \" + str(distance(camera_p,canterbury_p))"
     ],
     "language": "python",
     "metadata": {},
     "outputs": []
    },
    {
     "cell_type": "markdown",
     "metadata": {},
     "source": [
      "In the graph above, we can certainly see some rough similarities, but also some pronounced differences - we can see that Dutch uses the letter J significantly more than German & English, and English uses Y much more than the others - this is due to the German & Dutch letter J being pronounced as Y, so using the letter Y would be largely redundant.\n",
      "\n",
      "We can also see that German & Dutch use E more often, and this can be in part explained by how plurals work in these languages - for English, to make something a plural, we usually add -s at the end. In German, an E is often added, as either -e, -er or -en for the most part, and -en in Dutch. This can be seen in the following example:\n",
      "    <ul>\n",
      "        <li>English: Dog -> Dogs</li>\n",
      "        <li>Dutch: Hond -> Honden</li>\n",
      "        <li>German: Hund -> Hunde/Hunden (depending on grammatical case)</li>\n",
      "    </ul>\n",
      "\n",
      "Thus we see that E is more frequent in German and Dutch than in English, as is the letter N.\n",
      "The letter S is also less frequent in Dutch, partially due to plurals, but also due to the use of the letter Z.\n",
      "Compare the following, looking at son (male child) and sun (star):\n",
      "    <ul>\n",
      "        <li>English: Son; Sun</li>\n",
      "        <li>German: Sohn; Sonne</li>\n",
      "        <li>Dutch: Zoon; Zon</li>\n",
      "    </ul>\n",
      "    \n",
      "Clearly, German and Dutch are closer to each other than they are to English, likely due to being neighbouring countries. They also both appear to be closer to Old English than Modern or Middle English, which again may be due to the rise of French influence on English over time.\n",
      "\n",
      "Now let's have a quick look at Dutch and its daughter language, Afrikaans."
     ]
    },
    {
     "cell_type": "code",
     "collapsed": false,
     "input": [
      "letterPlot([camera_p,taleOfTwo_p],['#FF6600','g'],['Dutch','Afrikaans'])\n",
      "print \"Distance between Dutch and Afrikaans: \" + str(distance(camera_p,digters_p))"
     ],
     "language": "python",
     "metadata": {},
     "outputs": []
    },
    {
     "cell_type": "code",
     "collapsed": false,
     "input": [
      "differencePlot(camera_p,digters_p,'Dutch','Afrikaans')"
     ],
     "language": "python",
     "metadata": {},
     "outputs": []
    },
    {
     "cell_type": "markdown",
     "metadata": {},
     "source": [
      "Here we can definitely see some similarities, but also see some of the divergence - looking at the higher frequency of J in Dutch and Y in Afrikaans is partly due to the the <a href=\"http://en.wikipedia.org/wiki/IJ_(digraph)\">digraph IJ</a>; in Dutch, ij is sometimes treated as if they were a single letter, so when it appears at the start of a capitalised word, both the I and the J are capitalised. In Afrikaans, the IJ is replaced with Y.\n",
      "Afrikaans also uses the letter S more often, rarely using the letter Z.\n",
      "\n",
      "Now grab a jumper, because we're about to head to Scandinavia!"
     ]
    },
    {
     "cell_type": "code",
     "collapsed": false,
     "input": [
      "letterPlot([saefarinn_p,markens_p,opdager_p,samlade_p],['#0048E0','#ED2939','#800000','y'],['Icelandic','Norwegian','Danish','Swedish'])\n",
      "print \"Distance between Icelandic and Norwegian: \" + str(distance(saefarinn_p,markens_p))\n",
      "print \"Distance between Icelandic and Danish: \" + str(distance(saefarinn_p,opdager_p))\n",
      "print \"Distance between Icelandic and Swedish: \" + str(distance(saefarinn_p,samlade_p))"
     ],
     "language": "python",
     "metadata": {},
     "outputs": []
    },
    {
     "cell_type": "markdown",
     "metadata": {},
     "source": [
      "And by 'head to Scandinavia', I really mean we'll just look at its languages. So a jumper probably isn't really necessary.\n",
      "\n",
      "Anyway, the plot above is a bit of a mess, but we can certainly see that Icelandic is quite far away from the others, and has a couple of characters that none of the others use - let's separate Icelandic for a bit and look at the continental Scandinavian languages.\n",
      "\n",
      "Sorry, Iceland."
     ]
    },
    {
     "cell_type": "code",
     "collapsed": false,
     "input": [
      "letterPlot([markens_p,opdager_p,samlade_p],['#ED2939','#800000','y'],['Norwegian','Danish','Swedish'])\n",
      "print \"Distance between Norwegian and Danish: \" + str(distance(markens_p,opdager_p))\n",
      "print \"Distance between Norwegian and Swedish: \" + str(distance(markens_p,samlade_p))\n",
      "print \"Distance between Danish and Swedish: \" + str(distance(opdager_p,samlade_p))"
     ],
     "language": "python",
     "metadata": {},
     "outputs": []
    },
    {
     "cell_type": "code",
     "collapsed": false,
     "input": [
      "differencePlot(markens_p,opdager_p,'Norwegian','Danish')"
     ],
     "language": "python",
     "metadata": {},
     "outputs": []
    },
    {
     "cell_type": "markdown",
     "metadata": {},
     "source": [
      "That's better. Now we can see that Norwegian and Danish are actually quite close - turns out they use the same alphabet. According to our `distance` function, they're actually closer to each other than Dutch is to Afrikaans, and also closer than Middle English is to English.\n",
      "This prompted further investigation, during which I discovered that there are in fact **two** official written standards for Norway - <a href=\"http://en.wikipedia.org/wiki/Bokm%C3%A5l\">Bokm\u00e5l</a> and Nynorsk - the former being far more commonly used, and being derived from Danish. Thus we can see why Danish and Norwegian are so close - not only do they use the same alphabet, but they practically use the same language!\n",
      "Swedish is also relatively close to both Danish and Norwegian, but Sweden's lack of \u00e6 & \u00f8 and use of \u00e5, \u00e4 & \u00f6 definitely set it apart.\n",
      "\n",
      "Side note: <a href=\"http://satwcomic.com/language-lesson\">here's how Denmark, Norway and Sweden perceive each other's languages</a>.\n",
      "\n",
      "Now let's go back to poor Iceland - don't want it to feel left out."
     ]
    },
    {
     "cell_type": "code",
     "collapsed": false,
     "input": [
      "letterPlot([saefarinn_p,beowulf_p],['#0048E0','r'],['Icelandic','Old English'])\n",
      "print \"Distance between Icelandic and Old English: \" + str(distance(saefarinn_p,beowulf_p))\n",
      "print \"Distance between Icelandic and Danish: \" + str(distance(saefarinn_p,opdager_p))"
     ],
     "language": "python",
     "metadata": {},
     "outputs": []
    },
    {
     "cell_type": "code",
     "collapsed": false,
     "input": [
      "differencePlot(saefarinn_p,beowulf_p,'Icelandic','Old English')\n",
      "differencePlot(saefarinn_p,opdager_p,'Icelandic','Danish')"
     ],
     "language": "python",
     "metadata": {},
     "outputs": []
    },
    {
     "cell_type": "markdown",
     "metadata": {},
     "source": [
      "Looks like Icelandic is roughly as far removed from Danish as it from Old English! I suppose living on an island away from the rest of the Nordic countries, and being a country which has been obsessed with keeping its language pure <a href=\"http://en.wikipedia.org/wiki/Linguistic_purism_in_Icelandic\">for the last several hundred years</a> can have that effect.\n",
      "\n",
      "Finally, let's have a look at what letters are most common for each language:"
     ]
    },
    {
     "cell_type": "code",
     "collapsed": false,
     "input": [
      "#English\n",
      "sortedFrequency(beowulf_p,'Beowulf')\n",
      "sortedFrequency(canterbury_p,'The Canterbury Tales')\n",
      "sortedFrequency(macbeth_p,'Macbeth')\n",
      "sortedFrequency(taleOfTwo_p,'A Tale of Two Cities')\n",
      "sortedFrequency(snowy_p,'The Man from Snowy River')"
     ],
     "language": "python",
     "metadata": {},
     "outputs": []
    },
    {
     "cell_type": "code",
     "collapsed": false,
     "input": [
      "#Other West Germanic\n",
      "sortedFrequency(betrachtung_p,'German')\n",
      "sortedFrequency(camera_p,'Dutch')\n",
      "sortedFrequency(digters_p,'Afrikaans')"
     ],
     "language": "python",
     "metadata": {},
     "outputs": []
    },
    {
     "cell_type": "code",
     "collapsed": false,
     "input": [
      "#North Germanic\n",
      "sortedFrequency(saefarinn_p,'Icelandic')\n",
      "sortedFrequency(markens_p,'Norwegian')\n",
      "sortedFrequency(opdager_p,'Danish')\n",
      "sortedFrequency(samlade_p,'Swedish')"
     ],
     "language": "python",
     "metadata": {},
     "outputs": []
    },
    {
     "cell_type": "markdown",
     "metadata": {},
     "source": [
      "Looks like we have a winner! For the West Germanic languages, looks like E is the standout favourite, being the most frequent for all but Icelandic and Swedish. For Middle and Modern English, T was the second most frequent, again likely due to the definite article 'the'.\n",
      "\n",
      "For the remaining West Germanic languages, German and Dutch both had N as their second most frequent letter; third most for Afrikaans. Strangely enough, Dutch & Afrikaans both have E, A and N in the top 3, as do the Continental Scandinavian languages.\n",
      "\n",
      "For the Continental Scandinavian languages, E, A and N were the most frequent - Danish and Norwegian are again almost identical, but Swedish stands out as it is the only language listed with a consonant as the most frequent. This could be due to Swedish using two other 'a' characters: \u00e4 and \u00e5 - if these were all counted as 'a', then A would be the most frequent.\n",
      "\n",
      "For all but Icelandic, U was the least frequent vowel (out of A, E, I, O, U - not including accented vowels)."
     ]
    },
    {
     "cell_type": "markdown",
     "metadata": {},
     "source": [
      "<hr style=\"height:5px;border:none;color:#333;background-color:#333;\" />\n",
      "# 5. Results/Insights\n",
      "\n",
      "Discuss any non-trivial result or insight into the problem stemming from your analysis.\n",
      "\n",
      "__Create as many code, markdown and raw cells as needed__"
     ]
    },
    {
     "cell_type": "markdown",
     "metadata": {},
     "source": [
      "In this report, I was able to display some of the differences between the various Germanic languages both numerically and graphically, as well as account for some of these differences. I was able to see quite clearly some of the more prominent differences and speculate the reasons behind them.\n",
      "\n",
      "I was also able to see mathematically how close languages are - the Modern English texts all had a distance of less than 0.025 from each other, and the distance of ~0.03 between Danish & Norwegian is what prompted me to look into the relationship between them and discover why this was the case.\n",
      "\n",
      "The distance of ~0.04 between Middle and Modern English was surprising - they appeared to be closer together than I expected; certainly closer together than between Dutch & Afrikaans, which I was expecting to be slightly closer together.\n",
      "\n",
      "Distances of ~0.08, ~0.09 seemed to indicate a reasonably strong relationship between 2 languages, as seen between German & Dutch, Dutch & Afrikaans, and Norwegian/Danish & Swedish. With more texts and across other language families (i.e. other than Germanic, such as Romance languages, etc.), this could be different; however, based on the data analysed, this seemed to hold true.\n",
      "\n",
      "The distance and clear differences between Icelandic and the other languages was also rather striking, and served to show the developmental difference between a geographically isolated country and countries which would have had a high amount of interaction with each other (be it through trading, being neighbouring countries, and so forth).\n",
      "\n",
      "Overall, whilst the data used was relatively limited (in that I used 1 text for most of the languages, and of differing lengths), there were still some interesting insights to be gained."
     ]
    },
    {
     "cell_type": "markdown",
     "metadata": {},
     "source": [
      "<hr style=\"height:5px;border:none;color:#333;background-color:#333;\" />\n",
      "# 6. In hindsight...\n",
      "\n",
      "In this section you should reflect on your work and what you've learned. In particular you should include:\n",
      "\n",
      "    - a discussion of the most challenging aspect of the data analysis and if/how you overcame the challenge.\n",
      "    - a discussion of any programming technique and/or reference you found particularly useful or helpful for your project.\n",
      "    - an assessment of the outcome of the study in relation to the original goals (i.e., have the goals been reached, or did you have to reassess the goals during the project, and if so why?).\n",
      "    - a discussion of what new, or surprising knowledge or insight into the problem you've gained by conducting the study.\n",
      "    - a discussion of whether you would approach the problem differently if given an opportunity to redo the work, and any advice they would give to someone who would want to work on a similar problem.\n",
      "    - a discussion of how your analysis could be improved or extended in future work.\n"
     ]
    },
    {
     "cell_type": "markdown",
     "metadata": {},
     "source": [
      "\n",
      "<u>Challenges:</u>\n",
      "\n",
      "- Unicode.\n",
      "- Trying to generalise functions (such as `letterPlot` and `textClean`) instead of hardcoding them was challenging, but worth the effort, and it certainly makes the notebook a lot tidier than it would otherwise be. For `letterPlot`, there was a lot of trial and error to find the right parameters to make it work. With `textClean`, I was hesitant at first because I wasn't sure how to pass a variable to make a filepath. Of course, Python is beautiful in its simplicity and lets me just do it intuitively; there was no need for me to overcomplicate things.\n",
      "- Unicode.\n",
      "\n",
      "<u>Techniques & references:</u>\n",
      "\n",
      "- A lot of the string operations we did early on in the course were useful - in fact, it was after doing one of the strings assignments we had for homework that I stopped and thought, \"I wonder if I can get a nice little graph of the letter frequency of this...\"\n",
      "- The lesson on unicode proved to be quite useful - there was a lot of consulting that notebook, python documentation  and stackoverflow in order to figure out how to get the unicode to work.\n",
      "- Matplotlib - for my `letterPlot`, I adapted <a href=\"http://matplotlib.org/examples/api/barchart_demo.html\">this example</a> from the matplotlib website, and played around with different things to get it to do what I wanted.\n",
      "\n",
      "<u>Assessment of outcome:</u>\n",
      "\n",
      "- I believe I've successfully achieved the goals that I set - the graphs certainly displayed any prominent differences and similarities, and a few of these were certainly able to be accounted for; perhaps somebody studying linguistics would be able to further explain some more of these.\n",
      "\n",
      "<u>New insights:</u>\n",
      "\n",
      "- When I first began, I wasn't certain about the extent to which I'd be able to extract meaningful data to be analysed, in terms of applying these mathematical methods to different groups of languages. However, I was pleasantly surprised to see that such methods worked reasonably well, and as has been seen, insights can be gathered from these.\n",
      "- It would appear that the `distance` function works reasonably well in measuring how close languages are, up to a point; distances of above ~0.1 started to give less information about relatedness, and it would be interesting to see how this plays out between wider language families.\n",
      "- The letter E is the most used letter not just in English, but in most of the Germanic languages, often by a significant margin.\n",
      "\n",
      "<u>Improvements or Extensions:</u>\n",
      "\n",
      "- This project could easily be adapted to other language families, such as the Romance or Slavic languages, as well as more in-depth looks at different time periods for a specific language. Other extensions could include a look at regional dialects of a language, such as comparing American English to Australian English and English proper.\n",
      "- Related to the above point: a meta-project could compare high-level language families with each other, e.g. comparing Germanic to Italic to Celtic, and so forth.\n",
      "- The scope of this project was relatively small - I only used 1 text for most of the languages, and it would definitely be better to have a broader range of texts.\n",
      "- Another extension would be to compare specific letters or even letter combinations, such as looking solely at vowel distribution, or comparing digraphs such as 'TH', etc. across the different languages."
     ]
    }
   ],
   "metadata": {}
  }
 ]
}